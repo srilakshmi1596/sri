{
 "cells": [
  {
   "cell_type": "code",
   "execution_count": 94,
   "id": "82cefe8c",
   "metadata": {},
   "outputs": [],
   "source": [
    "import numpy as np\n",
    "import pandas as pd\n",
    "import warnings \n",
    "warnings.filterwarnings('ignore')"
   ]
  },
  {
   "cell_type": "code",
   "execution_count": 2,
   "id": "bf6ff0f5",
   "metadata": {},
   "outputs": [],
   "source": [
    "data = pd.read_excel(\"completion-detailed-report-11-21-2022-14-34 - Copy.xlsx\")"
   ]
  },
  {
   "cell_type": "code",
   "execution_count": 3,
   "id": "0e8960b4",
   "metadata": {},
   "outputs": [
    {
     "data": {
      "text/html": [
       "<div>\n",
       "<style scoped>\n",
       "    .dataframe tbody tr th:only-of-type {\n",
       "        vertical-align: middle;\n",
       "    }\n",
       "\n",
       "    .dataframe tbody tr th {\n",
       "        vertical-align: top;\n",
       "    }\n",
       "\n",
       "    .dataframe thead th {\n",
       "        text-align: right;\n",
       "    }\n",
       "</style>\n",
       "<table border=\"1\" class=\"dataframe\">\n",
       "  <thead>\n",
       "    <tr style=\"text-align: right;\">\n",
       "      <th></th>\n",
       "      <th>User Id</th>\n",
       "      <th>User Status</th>\n",
       "      <th>Module Name</th>\n",
       "      <th>Course Author Id</th>\n",
       "      <th>Course Author Name</th>\n",
       "      <th>Course Type</th>\n",
       "      <th>Primary Tag</th>\n",
       "      <th>Secondary Tag</th>\n",
       "      <th>Started On</th>\n",
       "      <th>Due Date</th>\n",
       "      <th>...</th>\n",
       "      <th>Legal_Entity</th>\n",
       "      <th>Assignment_Reason_Code</th>\n",
       "      <th>Reporting Manager User Id</th>\n",
       "      <th>HR Manager User Id</th>\n",
       "      <th>Module description</th>\n",
       "      <th>Language</th>\n",
       "      <th>Module Description</th>\n",
       "      <th>Module Id</th>\n",
       "      <th>Search Keywords</th>\n",
       "      <th>Course Description</th>\n",
       "    </tr>\n",
       "  </thead>\n",
       "  <tbody>\n",
       "    <tr>\n",
       "      <th>0</th>\n",
       "      <td>99010</td>\n",
       "      <td>Active</td>\n",
       "      <td>Information Security Awareness</td>\n",
       "      <td>AirtelHRLXPadmin</td>\n",
       "      <td>AirtelHRLXP Admin</td>\n",
       "      <td>Classroom</td>\n",
       "      <td>Workshops</td>\n",
       "      <td>-</td>\n",
       "      <td>-</td>\n",
       "      <td>2022-07-29 11:02:43.823</td>\n",
       "      <td>...</td>\n",
       "      <td>-</td>\n",
       "      <td>-</td>\n",
       "      <td>220027</td>\n",
       "      <td>-</td>\n",
       "      <td>Information   Security Awareness</td>\n",
       "      <td>English</td>\n",
       "      <td>NaN</td>\n",
       "      <td>4056</td>\n",
       "      <td>NaN</td>\n",
       "      <td>NaN</td>\n",
       "    </tr>\n",
       "    <tr>\n",
       "      <th>1</th>\n",
       "      <td>263424</td>\n",
       "      <td>Inactive</td>\n",
       "      <td>Webinar-Demonstrating Resilience as a Soldier</td>\n",
       "      <td>ilearnadmin1</td>\n",
       "      <td>ilearn Admin 1</td>\n",
       "      <td>Self-paced</td>\n",
       "      <td>Internal e-Learning</td>\n",
       "      <td>-</td>\n",
       "      <td>-</td>\n",
       "      <td>2022-04-05 16:21:21.833</td>\n",
       "      <td>...</td>\n",
       "      <td>Bharti Airtel Ltd.</td>\n",
       "      <td>INVOL_NO SHOW</td>\n",
       "      <td>-</td>\n",
       "      <td>220001</td>\n",
       "      <td>Friday Masterclass</td>\n",
       "      <td>English</td>\n",
       "      <td>NaN</td>\n",
       "      <td>7767</td>\n",
       "      <td>NaN</td>\n",
       "      <td>NaN</td>\n",
       "    </tr>\n",
       "    <tr>\n",
       "      <th>2</th>\n",
       "      <td>266232</td>\n",
       "      <td>Active</td>\n",
       "      <td>Webinar-Demonstrating Resilience as a Soldier</td>\n",
       "      <td>ilearnadmin1</td>\n",
       "      <td>ilearn Admin 1</td>\n",
       "      <td>Self-paced</td>\n",
       "      <td>Internal e-Learning</td>\n",
       "      <td>-</td>\n",
       "      <td>-</td>\n",
       "      <td>2022-04-05 08:23:56.607</td>\n",
       "      <td>...</td>\n",
       "      <td>Bharti Airtel Ltd.</td>\n",
       "      <td>LEC_ROLCNG</td>\n",
       "      <td>-</td>\n",
       "      <td>206994</td>\n",
       "      <td>Friday Masterclass</td>\n",
       "      <td>English</td>\n",
       "      <td>NaN</td>\n",
       "      <td>7767</td>\n",
       "      <td>NaN</td>\n",
       "      <td>NaN</td>\n",
       "    </tr>\n",
       "  </tbody>\n",
       "</table>\n",
       "<p>3 rows × 56 columns</p>\n",
       "</div>"
      ],
      "text/plain": [
       "  User Id User Status                                    Module Name  \\\n",
       "0   99010      Active                 Information Security Awareness   \n",
       "1  263424    Inactive  Webinar-Demonstrating Resilience as a Soldier   \n",
       "2  266232      Active  Webinar-Demonstrating Resilience as a Soldier   \n",
       "\n",
       "   Course Author Id Course Author Name Course Type          Primary Tag  \\\n",
       "0  AirtelHRLXPadmin  AirtelHRLXP Admin   Classroom            Workshops   \n",
       "1      ilearnadmin1     ilearn Admin 1  Self-paced  Internal e-Learning   \n",
       "2      ilearnadmin1     ilearn Admin 1  Self-paced  Internal e-Learning   \n",
       "\n",
       "  Secondary Tag Started On                Due Date  ...        Legal_Entity  \\\n",
       "0             -          - 2022-07-29 11:02:43.823  ...                   -   \n",
       "1             -          - 2022-04-05 16:21:21.833  ...  Bharti Airtel Ltd.   \n",
       "2             -          - 2022-04-05 08:23:56.607  ...  Bharti Airtel Ltd.   \n",
       "\n",
       "  Assignment_Reason_Code Reporting Manager User Id HR Manager User Id  \\\n",
       "0                      -                    220027                  -   \n",
       "1          INVOL_NO SHOW                         -             220001   \n",
       "2             LEC_ROLCNG                         -             206994   \n",
       "\n",
       "                    Module description  Language Module Description Module Id  \\\n",
       "0     Information   Security Awareness   English                NaN      4056   \n",
       "1                   Friday Masterclass   English                NaN      7767   \n",
       "2                   Friday Masterclass   English                NaN      7767   \n",
       "\n",
       "  Search Keywords Course Description  \n",
       "0             NaN                NaN  \n",
       "1             NaN                NaN  \n",
       "2             NaN                NaN  \n",
       "\n",
       "[3 rows x 56 columns]"
      ]
     },
     "execution_count": 3,
     "metadata": {},
     "output_type": "execute_result"
    }
   ],
   "source": [
    "data.head(3)"
   ]
  },
  {
   "cell_type": "code",
   "execution_count": 4,
   "id": "07c9da6b",
   "metadata": {},
   "outputs": [
    {
     "name": "stdout",
     "output_type": "stream",
     "text": [
      "<class 'pandas.core.frame.DataFrame'>\n",
      "RangeIndex: 331558 entries, 0 to 331557\n",
      "Data columns (total 56 columns):\n",
      " #   Column                     Non-Null Count   Dtype         \n",
      "---  ------                     --------------   -----         \n",
      " 0   User Id                    331558 non-null  object        \n",
      " 1   User Status                331558 non-null  object        \n",
      " 2   Module Name                331558 non-null  object        \n",
      " 3   Course Author Id           331558 non-null  object        \n",
      " 4   Course Author Name         331558 non-null  object        \n",
      " 5   Course Type                331558 non-null  object        \n",
      " 6   Primary Tag                331558 non-null  object        \n",
      " 7   Secondary Tag              331558 non-null  object        \n",
      " 8   Started On                 331558 non-null  object        \n",
      " 9   Due Date                   331558 non-null  datetime64[ns]\n",
      " 10  Estimated Duration         331558 non-null  object        \n",
      " 11  Time Spent                 331558 non-null  object        \n",
      " 12  Enrollment Type            331558 non-null  object        \n",
      " 13  Last Accessed On           331558 non-null  object        \n",
      " 14  Course Status              331558 non-null  object        \n",
      " 15  Completion Percentage      331558 non-null  float64       \n",
      " 16  Enrolled On                331558 non-null  datetime64[ns]\n",
      " 17  Completed On               331558 non-null  object        \n",
      " 18  Is Complete                331558 non-null  object        \n",
      " 19  Program Name               331558 non-null  object        \n",
      " 20  Course Name                331558 non-null  object        \n",
      " 21  Assessment Count           331558 non-null  object        \n",
      " 22  Pass Count                 331558 non-null  object        \n",
      " 23  Average Score Percentage   331558 non-null  object        \n",
      " 24  ROLE_CATEGORY              331558 non-null  object        \n",
      " 25  ORGANIZATION_ID            331558 non-null  object        \n",
      " 26  LOCATION_ID                331558 non-null  object        \n",
      " 27  ROLE                       331558 non-null  object        \n",
      " 28  Band                       331558 non-null  object        \n",
      " 29  HIRE_DATE                  331558 non-null  object        \n",
      " 30  MANAGER_GLOBAL_UNIQUE_ID   331558 non-null  object        \n",
      " 31  GENDER                     331558 non-null  object        \n",
      " 32  Level                      331558 non-null  object        \n",
      " 33  FUNCTION                   331558 non-null  object        \n",
      " 34  SUB_FUNCTION               331558 non-null  object        \n",
      " 35  SUB_SUB_FUNCTION           331558 non-null  object        \n",
      " 36  BUSINESS_UNIT              331558 non-null  object        \n",
      " 37  MATRIX_MANAGER             331558 non-null  object        \n",
      " 38  HR_MANAGER                 331558 non-null  object        \n",
      " 39  HR_HEAD                    331558 non-null  object        \n",
      " 40  Circle HR head             331558 non-null  object        \n",
      " 41  CEO                        331558 non-null  object        \n",
      " 42  AMB                        331558 non-null  object        \n",
      " 43  LOB                        331558 non-null  object        \n",
      " 44  Circle                     331558 non-null  object        \n",
      " 45  Role Group                 331558 non-null  object        \n",
      " 46  Legal_Entity               331558 non-null  object        \n",
      " 47  Assignment_Reason_Code     331558 non-null  object        \n",
      " 48  Reporting Manager User Id  331558 non-null  object        \n",
      " 49  HR Manager User Id         331558 non-null  object        \n",
      " 50  Module description         303488 non-null  object        \n",
      " 51  Language                   331558 non-null  object        \n",
      " 52  Module Description         129876 non-null  object        \n",
      " 53  Module Id                  331558 non-null  int64         \n",
      " 54  Search Keywords            91728 non-null   object        \n",
      " 55  Course Description         129876 non-null  object        \n",
      "dtypes: datetime64[ns](2), float64(1), int64(1), object(52)\n",
      "memory usage: 141.7+ MB\n"
     ]
    }
   ],
   "source": [
    "data.info()"
   ]
  },
  {
   "cell_type": "code",
   "execution_count": 5,
   "id": "a094df86",
   "metadata": {},
   "outputs": [
    {
     "data": {
      "text/plain": [
       "(331558, 56)"
      ]
     },
     "execution_count": 5,
     "metadata": {},
     "output_type": "execute_result"
    }
   ],
   "source": [
    "data.shape"
   ]
  },
  {
   "cell_type": "code",
   "execution_count": 6,
   "id": "c7792825",
   "metadata": {},
   "outputs": [
    {
     "data": {
      "text/html": [
       "<div>\n",
       "<style scoped>\n",
       "    .dataframe tbody tr th:only-of-type {\n",
       "        vertical-align: middle;\n",
       "    }\n",
       "\n",
       "    .dataframe tbody tr th {\n",
       "        vertical-align: top;\n",
       "    }\n",
       "\n",
       "    .dataframe thead th {\n",
       "        text-align: right;\n",
       "    }\n",
       "</style>\n",
       "<table border=\"1\" class=\"dataframe\">\n",
       "  <thead>\n",
       "    <tr style=\"text-align: right;\">\n",
       "      <th></th>\n",
       "      <th>Completion Percentage</th>\n",
       "      <th>Module Id</th>\n",
       "    </tr>\n",
       "  </thead>\n",
       "  <tbody>\n",
       "    <tr>\n",
       "      <th>count</th>\n",
       "      <td>331558.000000</td>\n",
       "      <td>331558.000000</td>\n",
       "    </tr>\n",
       "    <tr>\n",
       "      <th>mean</th>\n",
       "      <td>38.989896</td>\n",
       "      <td>4890.573888</td>\n",
       "    </tr>\n",
       "    <tr>\n",
       "      <th>std</th>\n",
       "      <td>47.684037</td>\n",
       "      <td>2044.841744</td>\n",
       "    </tr>\n",
       "    <tr>\n",
       "      <th>min</th>\n",
       "      <td>0.000000</td>\n",
       "      <td>103.000000</td>\n",
       "    </tr>\n",
       "    <tr>\n",
       "      <th>25%</th>\n",
       "      <td>0.000000</td>\n",
       "      <td>3342.000000</td>\n",
       "    </tr>\n",
       "    <tr>\n",
       "      <th>50%</th>\n",
       "      <td>0.000000</td>\n",
       "      <td>5720.000000</td>\n",
       "    </tr>\n",
       "    <tr>\n",
       "      <th>75%</th>\n",
       "      <td>100.000000</td>\n",
       "      <td>6079.000000</td>\n",
       "    </tr>\n",
       "    <tr>\n",
       "      <th>max</th>\n",
       "      <td>100.000000</td>\n",
       "      <td>8026.000000</td>\n",
       "    </tr>\n",
       "  </tbody>\n",
       "</table>\n",
       "</div>"
      ],
      "text/plain": [
       "       Completion Percentage      Module Id\n",
       "count          331558.000000  331558.000000\n",
       "mean               38.989896    4890.573888\n",
       "std                47.684037    2044.841744\n",
       "min                 0.000000     103.000000\n",
       "25%                 0.000000    3342.000000\n",
       "50%                 0.000000    5720.000000\n",
       "75%               100.000000    6079.000000\n",
       "max               100.000000    8026.000000"
      ]
     },
     "execution_count": 6,
     "metadata": {},
     "output_type": "execute_result"
    }
   ],
   "source": [
    "data.describe()"
   ]
  },
  {
   "cell_type": "code",
   "execution_count": 7,
   "id": "5e0443f6",
   "metadata": {},
   "outputs": [
    {
     "data": {
      "text/plain": [
       "User Id                       23573\n",
       "User Status                       2\n",
       "Module Name                    7926\n",
       "Course Author Id                 17\n",
       "Course Author Name               11\n",
       "Course Type                       4\n",
       "Primary Tag                       7\n",
       "Secondary Tag                    10\n",
       "Started On                    96925\n",
       "Due Date                     140890\n",
       "Estimated Duration              560\n",
       "Time Spent                      544\n",
       "Enrollment Type                   2\n",
       "Last Accessed On             118130\n",
       "Course Status                     3\n",
       "Completion Percentage           292\n",
       "Enrolled On                  138428\n",
       "Completed On                  94930\n",
       "Is Complete                       2\n",
       "Program Name                     13\n",
       "Course Name                     281\n",
       "Assessment Count                 14\n",
       "Pass Count                       14\n",
       "Average Score Percentage        456\n",
       "ROLE_CATEGORY                     5\n",
       "ORGANIZATION_ID                 852\n",
       "LOCATION_ID                     394\n",
       "ROLE                           2830\n",
       "Band                             28\n",
       "HIRE_DATE                      2397\n",
       "MANAGER_GLOBAL_UNIQUE_ID       3673\n",
       "GENDER                            4\n",
       "Level                            36\n",
       "FUNCTION                         80\n",
       "SUB_FUNCTION                    334\n",
       "SUB_SUB_FUNCTION                309\n",
       "BUSINESS_UNIT                   277\n",
       "MATRIX_MANAGER                   86\n",
       "HR_MANAGER                       49\n",
       "HR_HEAD                          30\n",
       "Circle HR head                   27\n",
       "CEO                              19\n",
       "AMB                              18\n",
       "LOB                              38\n",
       "Circle                           52\n",
       "Role Group                      137\n",
       "Legal_Entity                     17\n",
       "Assignment_Reason_Code           51\n",
       "Reporting Manager User Id      3658\n",
       "HR Manager User Id               47\n",
       "Module description             7532\n",
       "Language                          1\n",
       "Module Description               25\n",
       "Module Id                      7924\n",
       "Search Keywords                2554\n",
       "Course Description               25\n",
       "dtype: int64"
      ]
     },
     "execution_count": 7,
     "metadata": {},
     "output_type": "execute_result"
    }
   ],
   "source": [
    "data.nunique()"
   ]
  },
  {
   "cell_type": "code",
   "execution_count": 8,
   "id": "28ccaa03",
   "metadata": {},
   "outputs": [],
   "source": [
    "#selecting columns which is required for recommendation system"
   ]
  },
  {
   "cell_type": "code",
   "execution_count": 9,
   "id": "fe4414f9",
   "metadata": {},
   "outputs": [],
   "source": [
    "df = data.loc[:,['Course Type','Module Name','Primary Tag','Secondary Tag','Module description']]"
   ]
  },
  {
   "cell_type": "code",
   "execution_count": 10,
   "id": "3a134049",
   "metadata": {},
   "outputs": [
    {
     "name": "stdout",
     "output_type": "stream",
     "text": [
      "<class 'pandas.core.frame.DataFrame'>\n",
      "RangeIndex: 331558 entries, 0 to 331557\n",
      "Data columns (total 5 columns):\n",
      " #   Column              Non-Null Count   Dtype \n",
      "---  ------              --------------   ----- \n",
      " 0   Course Type         331558 non-null  object\n",
      " 1   Module Name         331558 non-null  object\n",
      " 2   Primary Tag         331558 non-null  object\n",
      " 3   Secondary Tag       331558 non-null  object\n",
      " 4   Module description  303488 non-null  object\n",
      "dtypes: object(5)\n",
      "memory usage: 12.6+ MB\n"
     ]
    }
   ],
   "source": [
    "df.info()"
   ]
  },
  {
   "cell_type": "code",
   "execution_count": 11,
   "id": "ce877529",
   "metadata": {},
   "outputs": [
    {
     "data": {
      "text/html": [
       "<div>\n",
       "<style scoped>\n",
       "    .dataframe tbody tr th:only-of-type {\n",
       "        vertical-align: middle;\n",
       "    }\n",
       "\n",
       "    .dataframe tbody tr th {\n",
       "        vertical-align: top;\n",
       "    }\n",
       "\n",
       "    .dataframe thead th {\n",
       "        text-align: right;\n",
       "    }\n",
       "</style>\n",
       "<table border=\"1\" class=\"dataframe\">\n",
       "  <thead>\n",
       "    <tr style=\"text-align: right;\">\n",
       "      <th></th>\n",
       "      <th>Course Type</th>\n",
       "      <th>Module Name</th>\n",
       "      <th>Primary Tag</th>\n",
       "      <th>Secondary Tag</th>\n",
       "      <th>Module description</th>\n",
       "    </tr>\n",
       "  </thead>\n",
       "  <tbody>\n",
       "    <tr>\n",
       "      <th>0</th>\n",
       "      <td>Classroom</td>\n",
       "      <td>Information Security Awareness</td>\n",
       "      <td>Workshops</td>\n",
       "      <td>-</td>\n",
       "      <td>Information   Security Awareness</td>\n",
       "    </tr>\n",
       "    <tr>\n",
       "      <th>1</th>\n",
       "      <td>Self-paced</td>\n",
       "      <td>Webinar-Demonstrating Resilience as a Soldier</td>\n",
       "      <td>Internal e-Learning</td>\n",
       "      <td>-</td>\n",
       "      <td>Friday Masterclass</td>\n",
       "    </tr>\n",
       "    <tr>\n",
       "      <th>2</th>\n",
       "      <td>Self-paced</td>\n",
       "      <td>Webinar-Demonstrating Resilience as a Soldier</td>\n",
       "      <td>Internal e-Learning</td>\n",
       "      <td>-</td>\n",
       "      <td>Friday Masterclass</td>\n",
       "    </tr>\n",
       "  </tbody>\n",
       "</table>\n",
       "</div>"
      ],
      "text/plain": [
       "  Course Type                                    Module Name  \\\n",
       "0   Classroom                 Information Security Awareness   \n",
       "1  Self-paced  Webinar-Demonstrating Resilience as a Soldier   \n",
       "2  Self-paced  Webinar-Demonstrating Resilience as a Soldier   \n",
       "\n",
       "           Primary Tag Secondary Tag                   Module description  \n",
       "0            Workshops             -     Information   Security Awareness  \n",
       "1  Internal e-Learning             -                   Friday Masterclass  \n",
       "2  Internal e-Learning             -                   Friday Masterclass  "
      ]
     },
     "execution_count": 11,
     "metadata": {},
     "output_type": "execute_result"
    }
   ],
   "source": [
    "df.head(3)"
   ]
  },
  {
   "cell_type": "code",
   "execution_count": 12,
   "id": "16efa46d",
   "metadata": {},
   "outputs": [
    {
     "data": {
      "text/plain": [
       "Course Type               0\n",
       "Module Name               0\n",
       "Primary Tag               0\n",
       "Secondary Tag             0\n",
       "Module description    28070\n",
       "dtype: int64"
      ]
     },
     "execution_count": 12,
     "metadata": {},
     "output_type": "execute_result"
    }
   ],
   "source": [
    "df.isnull().sum()"
   ]
  },
  {
   "cell_type": "code",
   "execution_count": 13,
   "id": "509cf159",
   "metadata": {},
   "outputs": [],
   "source": [
    "#df['Search Keywords'].fillna('', inplace=True)   "
   ]
  },
  {
   "cell_type": "code",
   "execution_count": 14,
   "id": "de0cec6e",
   "metadata": {},
   "outputs": [],
   "source": [
    "df[['Module description']] = df[['Module description']].fillna('')"
   ]
  },
  {
   "cell_type": "code",
   "execution_count": 15,
   "id": "a1532a75",
   "metadata": {},
   "outputs": [],
   "source": [
    "#df['Search Keywords'].unique()"
   ]
  },
  {
   "cell_type": "code",
   "execution_count": 16,
   "id": "97b07026",
   "metadata": {},
   "outputs": [
    {
     "data": {
      "text/plain": [
       "Course Type           0\n",
       "Module Name           0\n",
       "Primary Tag           0\n",
       "Secondary Tag         0\n",
       "Module description    0\n",
       "dtype: int64"
      ]
     },
     "execution_count": 16,
     "metadata": {},
     "output_type": "execute_result"
    }
   ],
   "source": [
    "df.isnull().sum()"
   ]
  },
  {
   "cell_type": "code",
   "execution_count": 17,
   "id": "acf378fa",
   "metadata": {},
   "outputs": [
    {
     "data": {
      "text/html": [
       "<div>\n",
       "<style scoped>\n",
       "    .dataframe tbody tr th:only-of-type {\n",
       "        vertical-align: middle;\n",
       "    }\n",
       "\n",
       "    .dataframe tbody tr th {\n",
       "        vertical-align: top;\n",
       "    }\n",
       "\n",
       "    .dataframe thead th {\n",
       "        text-align: right;\n",
       "    }\n",
       "</style>\n",
       "<table border=\"1\" class=\"dataframe\">\n",
       "  <thead>\n",
       "    <tr style=\"text-align: right;\">\n",
       "      <th></th>\n",
       "      <th>Course Type</th>\n",
       "      <th>Module Name</th>\n",
       "      <th>Primary Tag</th>\n",
       "      <th>Secondary Tag</th>\n",
       "      <th>Module description</th>\n",
       "    </tr>\n",
       "  </thead>\n",
       "  <tbody>\n",
       "    <tr>\n",
       "      <th>0</th>\n",
       "      <td>Classroom</td>\n",
       "      <td>Information Security Awareness</td>\n",
       "      <td>Workshops</td>\n",
       "      <td>-</td>\n",
       "      <td>Information   Security Awareness</td>\n",
       "    </tr>\n",
       "    <tr>\n",
       "      <th>1</th>\n",
       "      <td>Self-paced</td>\n",
       "      <td>Webinar-Demonstrating Resilience as a Soldier</td>\n",
       "      <td>Internal e-Learning</td>\n",
       "      <td>-</td>\n",
       "      <td>Friday Masterclass</td>\n",
       "    </tr>\n",
       "    <tr>\n",
       "      <th>2</th>\n",
       "      <td>Self-paced</td>\n",
       "      <td>Webinar-Demonstrating Resilience as a Soldier</td>\n",
       "      <td>Internal e-Learning</td>\n",
       "      <td>-</td>\n",
       "      <td>Friday Masterclass</td>\n",
       "    </tr>\n",
       "  </tbody>\n",
       "</table>\n",
       "</div>"
      ],
      "text/plain": [
       "  Course Type                                    Module Name  \\\n",
       "0   Classroom                 Information Security Awareness   \n",
       "1  Self-paced  Webinar-Demonstrating Resilience as a Soldier   \n",
       "2  Self-paced  Webinar-Demonstrating Resilience as a Soldier   \n",
       "\n",
       "           Primary Tag Secondary Tag                   Module description  \n",
       "0            Workshops             -     Information   Security Awareness  \n",
       "1  Internal e-Learning             -                   Friday Masterclass  \n",
       "2  Internal e-Learning             -                   Friday Masterclass  "
      ]
     },
     "execution_count": 17,
     "metadata": {},
     "output_type": "execute_result"
    }
   ],
   "source": [
    "df.head(3)"
   ]
  },
  {
   "cell_type": "code",
   "execution_count": 18,
   "id": "305d8009",
   "metadata": {},
   "outputs": [],
   "source": [
    "duplicatedrows = df[df.duplicated(keep='last')]"
   ]
  },
  {
   "cell_type": "code",
   "execution_count": 19,
   "id": "b8eaa2b4",
   "metadata": {},
   "outputs": [
    {
     "data": {
      "text/plain": [
       "323598"
      ]
     },
     "execution_count": 19,
     "metadata": {},
     "output_type": "execute_result"
    }
   ],
   "source": [
    "df.duplicated(subset=None, keep='first').sum()"
   ]
  },
  {
   "cell_type": "code",
   "execution_count": 20,
   "id": "e85b8bd1",
   "metadata": {},
   "outputs": [],
   "source": [
    "df.drop_duplicates(inplace= True)"
   ]
  },
  {
   "cell_type": "code",
   "execution_count": 21,
   "id": "0c91b631",
   "metadata": {},
   "outputs": [
    {
     "data": {
      "text/plain": [
       "Course Type              4\n",
       "Module Name           7926\n",
       "Primary Tag              7\n",
       "Secondary Tag           10\n",
       "Module description    7533\n",
       "dtype: int64"
      ]
     },
     "execution_count": 21,
     "metadata": {},
     "output_type": "execute_result"
    }
   ],
   "source": [
    "df.nunique()"
   ]
  },
  {
   "cell_type": "code",
   "execution_count": 22,
   "id": "39e9f9ca",
   "metadata": {},
   "outputs": [],
   "source": [
    "#df['Search Keywords']"
   ]
  },
  {
   "cell_type": "code",
   "execution_count": 23,
   "id": "05b0f999",
   "metadata": {},
   "outputs": [],
   "source": [
    "import nltk\n",
    "import re\n",
    "from nltk.corpus import stopwords"
   ]
  },
  {
   "cell_type": "code",
   "execution_count": 24,
   "id": "783a0acb",
   "metadata": {},
   "outputs": [
    {
     "name": "stderr",
     "output_type": "stream",
     "text": [
      "[nltk_data] Downloading package stopwords to\n",
      "[nltk_data]     C:\\Users\\Srilakshmi\\AppData\\Roaming\\nltk_data...\n",
      "[nltk_data]   Package stopwords is already up-to-date!\n"
     ]
    },
    {
     "data": {
      "text/plain": [
       "True"
      ]
     },
     "execution_count": 24,
     "metadata": {},
     "output_type": "execute_result"
    }
   ],
   "source": [
    "nltk.download('stopwords')"
   ]
  },
  {
   "cell_type": "markdown",
   "id": "fb8f8b7b",
   "metadata": {},
   "source": [
    "# Text data Preprocessing"
   ]
  },
  {
   "cell_type": "code",
   "execution_count": 25,
   "id": "9a1333b0",
   "metadata": {},
   "outputs": [],
   "source": [
    "#combining module_name, module descriptipon search keywords, primary tag and secondary tag create new column new_text"
   ]
  },
  {
   "cell_type": "code",
   "execution_count": 26,
   "id": "ae37d5ca",
   "metadata": {},
   "outputs": [],
   "source": [
    "df['new_text'] = df['Module Name'] + ' ' + df['Module description'] + ' ' + ' ' + df['Primary Tag'] + ' ' + df['Secondary Tag']"
   ]
  },
  {
   "cell_type": "code",
   "execution_count": 27,
   "id": "61ef5676",
   "metadata": {},
   "outputs": [
    {
     "data": {
      "text/html": [
       "<div>\n",
       "<style scoped>\n",
       "    .dataframe tbody tr th:only-of-type {\n",
       "        vertical-align: middle;\n",
       "    }\n",
       "\n",
       "    .dataframe tbody tr th {\n",
       "        vertical-align: top;\n",
       "    }\n",
       "\n",
       "    .dataframe thead th {\n",
       "        text-align: right;\n",
       "    }\n",
       "</style>\n",
       "<table border=\"1\" class=\"dataframe\">\n",
       "  <thead>\n",
       "    <tr style=\"text-align: right;\">\n",
       "      <th></th>\n",
       "      <th>Course Type</th>\n",
       "      <th>Module Name</th>\n",
       "      <th>Primary Tag</th>\n",
       "      <th>Secondary Tag</th>\n",
       "      <th>Module description</th>\n",
       "      <th>new_text</th>\n",
       "    </tr>\n",
       "  </thead>\n",
       "  <tbody>\n",
       "    <tr>\n",
       "      <th>0</th>\n",
       "      <td>Classroom</td>\n",
       "      <td>Information Security Awareness</td>\n",
       "      <td>Workshops</td>\n",
       "      <td>-</td>\n",
       "      <td>Information   Security Awareness</td>\n",
       "      <td>Information Security Awareness    Information ...</td>\n",
       "    </tr>\n",
       "    <tr>\n",
       "      <th>1</th>\n",
       "      <td>Self-paced</td>\n",
       "      <td>Webinar-Demonstrating Resilience as a Soldier</td>\n",
       "      <td>Internal e-Learning</td>\n",
       "      <td>-</td>\n",
       "      <td>Friday Masterclass</td>\n",
       "      <td>Webinar-Demonstrating Resilience as a Soldier ...</td>\n",
       "    </tr>\n",
       "    <tr>\n",
       "      <th>10</th>\n",
       "      <td>Self-paced</td>\n",
       "      <td>Work From Home Etiquette</td>\n",
       "      <td>Internal e-Learning</td>\n",
       "      <td>-</td>\n",
       "      <td>Here’s How to Actually Get Stuff Done While Yo...</td>\n",
       "      <td>Work From Home Etiquette Here’s How to Actuall...</td>\n",
       "    </tr>\n",
       "  </tbody>\n",
       "</table>\n",
       "</div>"
      ],
      "text/plain": [
       "   Course Type                                    Module Name  \\\n",
       "0    Classroom                 Information Security Awareness   \n",
       "1   Self-paced  Webinar-Demonstrating Resilience as a Soldier   \n",
       "10  Self-paced                       Work From Home Etiquette   \n",
       "\n",
       "            Primary Tag Secondary Tag  \\\n",
       "0             Workshops             -   \n",
       "1   Internal e-Learning             -   \n",
       "10  Internal e-Learning             -   \n",
       "\n",
       "                                   Module description  \\\n",
       "0                    Information   Security Awareness   \n",
       "1                                  Friday Masterclass   \n",
       "10  Here’s How to Actually Get Stuff Done While Yo...   \n",
       "\n",
       "                                             new_text  \n",
       "0   Information Security Awareness    Information ...  \n",
       "1   Webinar-Demonstrating Resilience as a Soldier ...  \n",
       "10  Work From Home Etiquette Here’s How to Actuall...  "
      ]
     },
     "execution_count": 27,
     "metadata": {},
     "output_type": "execute_result"
    }
   ],
   "source": [
    "df.head(3)"
   ]
  },
  {
   "cell_type": "code",
   "execution_count": 28,
   "id": "8ce2c767",
   "metadata": {},
   "outputs": [
    {
     "data": {
      "text/plain": [
       "0         Information Security Awareness    Information ...\n",
       "1         Webinar-Demonstrating Resilience as a Soldier ...\n",
       "10        Work From Home Etiquette Here’s How to Actuall...\n",
       "19        aaHRambh TEST HR inductions of all new joiners...\n",
       "20        SQL Essential Training Learn how to use SQL to...\n",
       "                                ...                        \n",
       "330990    Learning Songwriting: Reason Learn how to writ...\n",
       "331309    Analysing Complexity The first course of the s...\n",
       "331310    Causal Inference This course offers a rigorous...\n",
       "331311    Data Management in the Cloud Data Management i...\n",
       "331351    Python Data Visualization This if the final co...\n",
       "Name: new_text, Length: 7960, dtype: object"
      ]
     },
     "execution_count": 28,
     "metadata": {},
     "output_type": "execute_result"
    }
   ],
   "source": [
    "df['new_text']"
   ]
  },
  {
   "cell_type": "code",
   "execution_count": 29,
   "id": "97adc37f",
   "metadata": {},
   "outputs": [],
   "source": [
    "df_new = df.drop(['Primary Tag','Secondary Tag'],axis=1) #after create new column droping the columns"
   ]
  },
  {
   "cell_type": "code",
   "execution_count": 30,
   "id": "5c515d5d",
   "metadata": {},
   "outputs": [],
   "source": [
    "df_new.rename(columns = {'Module Name':'module_name'}, inplace = True)  #rename the variables\n",
    "df_new.rename(columns = {'Module description':'module_description'}, inplace = True)"
   ]
  },
  {
   "cell_type": "code",
   "execution_count": 31,
   "id": "a9304260",
   "metadata": {},
   "outputs": [
    {
     "data": {
      "text/html": [
       "<div>\n",
       "<style scoped>\n",
       "    .dataframe tbody tr th:only-of-type {\n",
       "        vertical-align: middle;\n",
       "    }\n",
       "\n",
       "    .dataframe tbody tr th {\n",
       "        vertical-align: top;\n",
       "    }\n",
       "\n",
       "    .dataframe thead th {\n",
       "        text-align: right;\n",
       "    }\n",
       "</style>\n",
       "<table border=\"1\" class=\"dataframe\">\n",
       "  <thead>\n",
       "    <tr style=\"text-align: right;\">\n",
       "      <th></th>\n",
       "      <th>Course Type</th>\n",
       "      <th>module_name</th>\n",
       "      <th>module_description</th>\n",
       "      <th>new_text</th>\n",
       "    </tr>\n",
       "  </thead>\n",
       "  <tbody>\n",
       "    <tr>\n",
       "      <th>0</th>\n",
       "      <td>Classroom</td>\n",
       "      <td>Information Security Awareness</td>\n",
       "      <td>Information   Security Awareness</td>\n",
       "      <td>Information Security Awareness    Information ...</td>\n",
       "    </tr>\n",
       "    <tr>\n",
       "      <th>1</th>\n",
       "      <td>Self-paced</td>\n",
       "      <td>Webinar-Demonstrating Resilience as a Soldier</td>\n",
       "      <td>Friday Masterclass</td>\n",
       "      <td>Webinar-Demonstrating Resilience as a Soldier ...</td>\n",
       "    </tr>\n",
       "    <tr>\n",
       "      <th>10</th>\n",
       "      <td>Self-paced</td>\n",
       "      <td>Work From Home Etiquette</td>\n",
       "      <td>Here’s How to Actually Get Stuff Done While Yo...</td>\n",
       "      <td>Work From Home Etiquette Here’s How to Actuall...</td>\n",
       "    </tr>\n",
       "    <tr>\n",
       "      <th>19</th>\n",
       "      <td>Classroom</td>\n",
       "      <td>aaHRambh TEST</td>\n",
       "      <td>HR inductions of all new joiners in HR for all...</td>\n",
       "      <td>aaHRambh TEST HR inductions of all new joiners...</td>\n",
       "    </tr>\n",
       "    <tr>\n",
       "      <th>20</th>\n",
       "      <td>LinkedIn Learning</td>\n",
       "      <td>SQL Essential Training</td>\n",
       "      <td>Learn how to use SQL to manage your database. ...</td>\n",
       "      <td>SQL Essential Training Learn how to use SQL to...</td>\n",
       "    </tr>\n",
       "    <tr>\n",
       "      <th>...</th>\n",
       "      <td>...</td>\n",
       "      <td>...</td>\n",
       "      <td>...</td>\n",
       "      <td>...</td>\n",
       "    </tr>\n",
       "    <tr>\n",
       "      <th>330990</th>\n",
       "      <td>LinkedIn Learning</td>\n",
       "      <td>Learning Songwriting: Reason</td>\n",
       "      <td>Learn how to write, record, and mix songsâ€”be...</td>\n",
       "      <td>Learning Songwriting: Reason Learn how to writ...</td>\n",
       "    </tr>\n",
       "    <tr>\n",
       "      <th>331309</th>\n",
       "      <td>Coursera</td>\n",
       "      <td>Analysing Complexity</td>\n",
       "      <td>The first course of the specialization ANALYZI...</td>\n",
       "      <td>Analysing Complexity The first course of the s...</td>\n",
       "    </tr>\n",
       "    <tr>\n",
       "      <th>331310</th>\n",
       "      <td>Coursera</td>\n",
       "      <td>Causal Inference</td>\n",
       "      <td>This course offers a rigorous mathematical sur...</td>\n",
       "      <td>Causal Inference This course offers a rigorous...</td>\n",
       "    </tr>\n",
       "    <tr>\n",
       "      <th>331311</th>\n",
       "      <td>Coursera</td>\n",
       "      <td>Data Management in the Cloud</td>\n",
       "      <td>Data Management in the Cloud</td>\n",
       "      <td>Data Management in the Cloud Data Management i...</td>\n",
       "    </tr>\n",
       "    <tr>\n",
       "      <th>331351</th>\n",
       "      <td>Coursera</td>\n",
       "      <td>Python Data Visualization</td>\n",
       "      <td>This if the final course in the specialization...</td>\n",
       "      <td>Python Data Visualization This if the final co...</td>\n",
       "    </tr>\n",
       "  </tbody>\n",
       "</table>\n",
       "<p>7960 rows × 4 columns</p>\n",
       "</div>"
      ],
      "text/plain": [
       "              Course Type                                    module_name  \\\n",
       "0               Classroom                 Information Security Awareness   \n",
       "1              Self-paced  Webinar-Demonstrating Resilience as a Soldier   \n",
       "10             Self-paced                       Work From Home Etiquette   \n",
       "19              Classroom                                  aaHRambh TEST   \n",
       "20      LinkedIn Learning                         SQL Essential Training   \n",
       "...                   ...                                            ...   \n",
       "330990  LinkedIn Learning                   Learning Songwriting: Reason   \n",
       "331309           Coursera                           Analysing Complexity   \n",
       "331310           Coursera                               Causal Inference   \n",
       "331311           Coursera                   Data Management in the Cloud   \n",
       "331351           Coursera                      Python Data Visualization   \n",
       "\n",
       "                                       module_description  \\\n",
       "0                        Information   Security Awareness   \n",
       "1                                      Friday Masterclass   \n",
       "10      Here’s How to Actually Get Stuff Done While Yo...   \n",
       "19      HR inductions of all new joiners in HR for all...   \n",
       "20      Learn how to use SQL to manage your database. ...   \n",
       "...                                                   ...   \n",
       "330990  Learn how to write, record, and mix songsâ€”be...   \n",
       "331309  The first course of the specialization ANALYZI...   \n",
       "331310  This course offers a rigorous mathematical sur...   \n",
       "331311                       Data Management in the Cloud   \n",
       "331351  This if the final course in the specialization...   \n",
       "\n",
       "                                                 new_text  \n",
       "0       Information Security Awareness    Information ...  \n",
       "1       Webinar-Demonstrating Resilience as a Soldier ...  \n",
       "10      Work From Home Etiquette Here’s How to Actuall...  \n",
       "19      aaHRambh TEST HR inductions of all new joiners...  \n",
       "20      SQL Essential Training Learn how to use SQL to...  \n",
       "...                                                   ...  \n",
       "330990  Learning Songwriting: Reason Learn how to writ...  \n",
       "331309  Analysing Complexity The first course of the s...  \n",
       "331310  Causal Inference This course offers a rigorous...  \n",
       "331311  Data Management in the Cloud Data Management i...  \n",
       "331351  Python Data Visualization This if the final co...  \n",
       "\n",
       "[7960 rows x 4 columns]"
      ]
     },
     "execution_count": 31,
     "metadata": {},
     "output_type": "execute_result"
    }
   ],
   "source": [
    "df_new"
   ]
  },
  {
   "cell_type": "code",
   "execution_count": 32,
   "id": "faa864be",
   "metadata": {},
   "outputs": [
    {
     "data": {
      "text/plain": [
       "(7960, 4)"
      ]
     },
     "execution_count": 32,
     "metadata": {},
     "output_type": "execute_result"
    }
   ],
   "source": [
    "df_new.shape"
   ]
  },
  {
   "cell_type": "code",
   "execution_count": 33,
   "id": "c620bbb7",
   "metadata": {},
   "outputs": [
    {
     "data": {
      "text/plain": [
       "'Webinar-Demonstrating Resilience as a Soldier Friday Masterclass  Internal e-Learning -'"
      ]
     },
     "execution_count": 33,
     "metadata": {},
     "output_type": "execute_result"
    }
   ],
   "source": [
    "df_new['new_text'][1] "
   ]
  },
  {
   "cell_type": "code",
   "execution_count": 34,
   "id": "ef9a8583",
   "metadata": {},
   "outputs": [],
   "source": [
    "df_new['new_text']=df_new['new_text'].apply(str) #convert object to string "
   ]
  },
  {
   "cell_type": "markdown",
   "id": "9293b3e6",
   "metadata": {},
   "source": [
    "    ***a. Removing non-alpha numerical characters.***\n",
    "    ***b. Converting all the sentence to lower case***\n",
    "    ***c. Converting sentence to tokens.***\n",
    "    ***d. Removing stopwords***\n",
    "    ***e. Lemmatization of the words***"
   ]
  },
  {
   "cell_type": "code",
   "execution_count": 35,
   "id": "280eebaa",
   "metadata": {},
   "outputs": [],
   "source": [
    "#NLP tools\n",
    "import re\n",
    "import nltk\n",
    "from nltk.tokenize import word_tokenize\n",
    "from nltk.stem import WordNetLemmatizer\n",
    "from gensim.models import Word2Vec\n",
    "import gensim.downloader as api\n",
    "from gensim.models import KeyedVectors\n",
    "from sklearn.feature_extraction.text import TfidfVectorizer\n",
    "from sklearn.metrics.pairwise import cosine_similarity"
   ]
  },
  {
   "cell_type": "code",
   "execution_count": 36,
   "id": "eb7d6f77",
   "metadata": {},
   "outputs": [],
   "source": [
    "en_stopwords =nltk.corpus.stopwords.words('english') \n",
    "lemmatizer = WordNetLemmatizer()"
   ]
  },
  {
   "cell_type": "code",
   "execution_count": 37,
   "id": "0d7eb07d",
   "metadata": {},
   "outputs": [],
   "source": [
    "#convert new_text column into lower casses\n",
    "def text_to_lower_case(column,df):\n",
    "    df[column] = df[column].str.lower()\n",
    "    return df"
   ]
  },
  {
   "cell_type": "code",
   "execution_count": 38,
   "id": "d4023b75",
   "metadata": {},
   "outputs": [],
   "source": [
    "df_new = text_to_lower_case('new_text',df_new)"
   ]
  },
  {
   "cell_type": "code",
   "execution_count": 39,
   "id": "70fcd707",
   "metadata": {},
   "outputs": [],
   "source": [
    "#remove punctuation from new_text column\n",
    "def remove_punctuation(column,df):\n",
    "    df[column] = df[column].str.replace('[^\\w\\s]','')\n",
    "    return df"
   ]
  },
  {
   "cell_type": "code",
   "execution_count": 95,
   "id": "076fea43",
   "metadata": {},
   "outputs": [],
   "source": [
    "df_new = remove_punctuation('new_text',df_new)"
   ]
  },
  {
   "cell_type": "code",
   "execution_count": 41,
   "id": "83b17af5",
   "metadata": {},
   "outputs": [],
   "source": [
    "#remove numeric from new_text column\n",
    "def remove_numeric(column,df):\n",
    "    df[column] = df[column].str.replace('\\d+', '')\n",
    "    return df"
   ]
  },
  {
   "cell_type": "code",
   "execution_count": 96,
   "id": "7e4c6d42",
   "metadata": {},
   "outputs": [],
   "source": [
    "df_new = remove_numeric('new_text',df_new)"
   ]
  },
  {
   "cell_type": "code",
   "execution_count": 43,
   "id": "5b669ac5",
   "metadata": {},
   "outputs": [],
   "source": [
    "#REMOVE STOPWORDS\n",
    "def remove_stopwords(column,df,stopword):\n",
    "    df[column] = df[column].apply(lambda x: ' '.join(word for word in x.split() if word not in stopword))\n",
    "    return df"
   ]
  },
  {
   "cell_type": "code",
   "execution_count": 44,
   "id": "2afe749a",
   "metadata": {},
   "outputs": [],
   "source": [
    "stopword_ls = stopwords.words('english')"
   ]
  },
  {
   "cell_type": "code",
   "execution_count": 45,
   "id": "ed5389ae",
   "metadata": {},
   "outputs": [],
   "source": [
    "df_new = remove_stopwords('new_text',df_new,stopword_ls)"
   ]
  },
  {
   "cell_type": "code",
   "execution_count": 46,
   "id": "a0ddae7f",
   "metadata": {},
   "outputs": [],
   "source": [
    "# #word Tokenisation\n",
    "# def word_tokenize(column,df):\n",
    "#     df[column] = df[column].apply(lambda x: x.split())\n",
    "#     return df"
   ]
  },
  {
   "cell_type": "code",
   "execution_count": 47,
   "id": "bc1479c4",
   "metadata": {},
   "outputs": [],
   "source": [
    "# df_new = word_tokenize('new_text',df_new)"
   ]
  },
  {
   "cell_type": "code",
   "execution_count": 48,
   "id": "8f701242",
   "metadata": {
    "scrolled": true
   },
   "outputs": [
    {
     "data": {
      "text/html": [
       "<div>\n",
       "<style scoped>\n",
       "    .dataframe tbody tr th:only-of-type {\n",
       "        vertical-align: middle;\n",
       "    }\n",
       "\n",
       "    .dataframe tbody tr th {\n",
       "        vertical-align: top;\n",
       "    }\n",
       "\n",
       "    .dataframe thead th {\n",
       "        text-align: right;\n",
       "    }\n",
       "</style>\n",
       "<table border=\"1\" class=\"dataframe\">\n",
       "  <thead>\n",
       "    <tr style=\"text-align: right;\">\n",
       "      <th></th>\n",
       "      <th>Course Type</th>\n",
       "      <th>module_name</th>\n",
       "      <th>module_description</th>\n",
       "      <th>new_text</th>\n",
       "    </tr>\n",
       "  </thead>\n",
       "  <tbody>\n",
       "    <tr>\n",
       "      <th>0</th>\n",
       "      <td>Classroom</td>\n",
       "      <td>Information Security Awareness</td>\n",
       "      <td>Information   Security Awareness</td>\n",
       "      <td>information security awareness information sec...</td>\n",
       "    </tr>\n",
       "    <tr>\n",
       "      <th>1</th>\n",
       "      <td>Self-paced</td>\n",
       "      <td>Webinar-Demonstrating Resilience as a Soldier</td>\n",
       "      <td>Friday Masterclass</td>\n",
       "      <td>webinardemonstrating resilience soldier friday...</td>\n",
       "    </tr>\n",
       "    <tr>\n",
       "      <th>10</th>\n",
       "      <td>Self-paced</td>\n",
       "      <td>Work From Home Etiquette</td>\n",
       "      <td>Here’s How to Actually Get Stuff Done While Yo...</td>\n",
       "      <td>work home etiquette heres actually get stuff d...</td>\n",
       "    </tr>\n",
       "  </tbody>\n",
       "</table>\n",
       "</div>"
      ],
      "text/plain": [
       "   Course Type                                    module_name  \\\n",
       "0    Classroom                 Information Security Awareness   \n",
       "1   Self-paced  Webinar-Demonstrating Resilience as a Soldier   \n",
       "10  Self-paced                       Work From Home Etiquette   \n",
       "\n",
       "                                   module_description  \\\n",
       "0                    Information   Security Awareness   \n",
       "1                                  Friday Masterclass   \n",
       "10  Here’s How to Actually Get Stuff Done While Yo...   \n",
       "\n",
       "                                             new_text  \n",
       "0   information security awareness information sec...  \n",
       "1   webinardemonstrating resilience soldier friday...  \n",
       "10  work home etiquette heres actually get stuff d...  "
      ]
     },
     "execution_count": 48,
     "metadata": {},
     "output_type": "execute_result"
    }
   ],
   "source": [
    "df_new.head(3)"
   ]
  },
  {
   "cell_type": "code",
   "execution_count": 49,
   "id": "f9686e8b",
   "metadata": {},
   "outputs": [],
   "source": [
    "#Defining th preprocessing function tokenization and lemmatization\n",
    "def process(text):\n",
    "    tokens = word_tokenize(text)\n",
    "    clean_list = []\n",
    "    for token in tokens:\n",
    "        if token not in en_stopwords:\n",
    "            clean_list.append(lemmatizer.lemmatize(token))\n",
    "    return \" \".join(clean_list)"
   ]
  },
  {
   "cell_type": "code",
   "execution_count": 50,
   "id": "e5e7e78a",
   "metadata": {},
   "outputs": [],
   "source": [
    "df_new.new_text = df_new.new_text.apply(process)"
   ]
  },
  {
   "cell_type": "code",
   "execution_count": 51,
   "id": "1b352d76",
   "metadata": {},
   "outputs": [
    {
     "data": {
      "text/html": [
       "<div>\n",
       "<style scoped>\n",
       "    .dataframe tbody tr th:only-of-type {\n",
       "        vertical-align: middle;\n",
       "    }\n",
       "\n",
       "    .dataframe tbody tr th {\n",
       "        vertical-align: top;\n",
       "    }\n",
       "\n",
       "    .dataframe thead th {\n",
       "        text-align: right;\n",
       "    }\n",
       "</style>\n",
       "<table border=\"1\" class=\"dataframe\">\n",
       "  <thead>\n",
       "    <tr style=\"text-align: right;\">\n",
       "      <th></th>\n",
       "      <th>Course Type</th>\n",
       "      <th>module_name</th>\n",
       "      <th>module_description</th>\n",
       "      <th>new_text</th>\n",
       "    </tr>\n",
       "  </thead>\n",
       "  <tbody>\n",
       "    <tr>\n",
       "      <th>0</th>\n",
       "      <td>Classroom</td>\n",
       "      <td>Information Security Awareness</td>\n",
       "      <td>Information   Security Awareness</td>\n",
       "      <td>information security awareness information sec...</td>\n",
       "    </tr>\n",
       "    <tr>\n",
       "      <th>1</th>\n",
       "      <td>Self-paced</td>\n",
       "      <td>Webinar-Demonstrating Resilience as a Soldier</td>\n",
       "      <td>Friday Masterclass</td>\n",
       "      <td>webinardemonstrating resilience soldier friday...</td>\n",
       "    </tr>\n",
       "    <tr>\n",
       "      <th>10</th>\n",
       "      <td>Self-paced</td>\n",
       "      <td>Work From Home Etiquette</td>\n",
       "      <td>Here’s How to Actually Get Stuff Done While Yo...</td>\n",
       "      <td>work home etiquette here actually get stuff do...</td>\n",
       "    </tr>\n",
       "  </tbody>\n",
       "</table>\n",
       "</div>"
      ],
      "text/plain": [
       "   Course Type                                    module_name  \\\n",
       "0    Classroom                 Information Security Awareness   \n",
       "1   Self-paced  Webinar-Demonstrating Resilience as a Soldier   \n",
       "10  Self-paced                       Work From Home Etiquette   \n",
       "\n",
       "                                   module_description  \\\n",
       "0                    Information   Security Awareness   \n",
       "1                                  Friday Masterclass   \n",
       "10  Here’s How to Actually Get Stuff Done While Yo...   \n",
       "\n",
       "                                             new_text  \n",
       "0   information security awareness information sec...  \n",
       "1   webinardemonstrating resilience soldier friday...  \n",
       "10  work home etiquette here actually get stuff do...  "
      ]
     },
     "execution_count": 51,
     "metadata": {},
     "output_type": "execute_result"
    }
   ],
   "source": [
    "df_new.head(3)"
   ]
  },
  {
   "cell_type": "code",
   "execution_count": null,
   "id": "bfcfc3c3",
   "metadata": {},
   "outputs": [],
   "source": []
  },
  {
   "cell_type": "markdown",
   "id": "25fb2bc2",
   "metadata": {},
   "source": [
    "# TF-IDF with Cosine Similarity model"
   ]
  },
  {
   "cell_type": "code",
   "execution_count": 52,
   "id": "612c8431",
   "metadata": {},
   "outputs": [],
   "source": [
    "from sklearn.feature_extraction.text import TfidfVectorizer"
   ]
  },
  {
   "cell_type": "code",
   "execution_count": 53,
   "id": "425222ca",
   "metadata": {},
   "outputs": [],
   "source": [
    "vectorizer = TfidfVectorizer()"
   ]
  },
  {
   "cell_type": "code",
   "execution_count": 54,
   "id": "922d0ce5",
   "metadata": {},
   "outputs": [],
   "source": [
    "cv = TfidfVectorizer(max_features=5000,stop_words='english') "
   ]
  },
  {
   "cell_type": "code",
   "execution_count": 55,
   "id": "e7f7f2a6",
   "metadata": {},
   "outputs": [],
   "source": [
    "tfidfvectors = cv.fit_transform(df_new['new_text']).toarray()"
   ]
  },
  {
   "cell_type": "code",
   "execution_count": 56,
   "id": "48e981b3",
   "metadata": {},
   "outputs": [],
   "source": [
    "test_matrix = vectorizer.fit_transform(df_new['new_text'])"
   ]
  },
  {
   "cell_type": "code",
   "execution_count": 57,
   "id": "cb840961",
   "metadata": {},
   "outputs": [
    {
     "data": {
      "text/html": [
       "<div>\n",
       "<style scoped>\n",
       "    .dataframe tbody tr th:only-of-type {\n",
       "        vertical-align: middle;\n",
       "    }\n",
       "\n",
       "    .dataframe tbody tr th {\n",
       "        vertical-align: top;\n",
       "    }\n",
       "\n",
       "    .dataframe thead th {\n",
       "        text-align: right;\n",
       "    }\n",
       "</style>\n",
       "<table border=\"1\" class=\"dataframe\">\n",
       "  <thead>\n",
       "    <tr style=\"text-align: right;\">\n",
       "      <th></th>\n",
       "      <th>Course Type</th>\n",
       "      <th>module_name</th>\n",
       "      <th>module_description</th>\n",
       "      <th>new_text</th>\n",
       "    </tr>\n",
       "  </thead>\n",
       "  <tbody>\n",
       "    <tr>\n",
       "      <th>0</th>\n",
       "      <td>Classroom</td>\n",
       "      <td>Information Security Awareness</td>\n",
       "      <td>Information   Security Awareness</td>\n",
       "      <td>information security awareness information sec...</td>\n",
       "    </tr>\n",
       "    <tr>\n",
       "      <th>1</th>\n",
       "      <td>Self-paced</td>\n",
       "      <td>Webinar-Demonstrating Resilience as a Soldier</td>\n",
       "      <td>Friday Masterclass</td>\n",
       "      <td>webinardemonstrating resilience soldier friday...</td>\n",
       "    </tr>\n",
       "  </tbody>\n",
       "</table>\n",
       "</div>"
      ],
      "text/plain": [
       "  Course Type                                    module_name  \\\n",
       "0   Classroom                 Information Security Awareness   \n",
       "1  Self-paced  Webinar-Demonstrating Resilience as a Soldier   \n",
       "\n",
       "                    module_description  \\\n",
       "0     Information   Security Awareness   \n",
       "1                   Friday Masterclass   \n",
       "\n",
       "                                            new_text  \n",
       "0  information security awareness information sec...  \n",
       "1  webinardemonstrating resilience soldier friday...  "
      ]
     },
     "execution_count": 57,
     "metadata": {},
     "output_type": "execute_result"
    }
   ],
   "source": [
    "df_new.head(2)"
   ]
  },
  {
   "cell_type": "code",
   "execution_count": 58,
   "id": "8f2b1ae0",
   "metadata": {},
   "outputs": [],
   "source": [
    "df_new.reset_index(inplace=True)"
   ]
  },
  {
   "cell_type": "code",
   "execution_count": 59,
   "id": "47dd006b",
   "metadata": {},
   "outputs": [],
   "source": [
    "from sklearn.metrics.pairwise import cosine_similarity"
   ]
  },
  {
   "cell_type": "markdown",
   "id": "39c816bc",
   "metadata": {},
   "source": [
    "## Row based  - 1"
   ]
  },
  {
   "cell_type": "code",
   "execution_count": 60,
   "id": "538efb5f",
   "metadata": {},
   "outputs": [],
   "source": [
    "#define a function that will return the first five recommended courses\n",
    "def Recommendation_Cosine_similarity(matrix, row_num):\n",
    "    similarity = cosine_similarity(test_matrix)\n",
    "    similar_courses = list(enumerate(similarity[row_num]))\n",
    "    sorted_similar_courses = sorted(similar_courses, key=lambda x:x[1], reverse= True)[:6]#the first element is the course being viewed\n",
    "#This part will return the description of the recommended courses\n",
    "    i = 0\n",
    "    for item in sorted_similar_courses:\n",
    "        description = df_new[df_new.index == item[0]][\"module_name\"].values[0]\n",
    "        recommendations = print(f\"{i+1}\\t{description}\\n\")\n",
    "        i = i + 1\n",
    "    return recommendations"
   ]
  },
  {
   "cell_type": "code",
   "execution_count": 75,
   "id": "c209debb",
   "metadata": {
    "scrolled": false
   },
   "outputs": [
    {
     "name": "stdout",
     "output_type": "stream",
     "text": [
      "1\tElectrical safety\n",
      "\n",
      "2\tSafety Signage and PPE\n",
      "\n",
      "3\tAutoCAD Electrical: Implementing PLCs\n",
      "\n",
      "4\tElectrical Systems: Reading Drawings and Schematics\n",
      "\n",
      "5\tElectrical Systems: Communications and Data\n",
      "\n",
      "6\tRoad Safety\n",
      "\n"
     ]
    }
   ],
   "source": [
    "Recommendation_Cosine_similarity(test_matrix, 25)#the first course is the course we are seeking recommedation for"
   ]
  },
  {
   "cell_type": "markdown",
   "id": "1e99df02",
   "metadata": {},
   "source": [
    "## row based - 2"
   ]
  },
  {
   "cell_type": "code",
   "execution_count": 102,
   "id": "726b4861",
   "metadata": {},
   "outputs": [],
   "source": [
    "vectorizer = TfidfVectorizer()\n",
    "features   = vectorizer.fit_transform(df_new['new_text'])"
   ]
  },
  {
   "cell_type": "code",
   "execution_count": 103,
   "id": "a000fc50",
   "metadata": {},
   "outputs": [],
   "source": [
    "#Taking the cosine similarity of the vectorized text\n",
    "cosine_sim = cosine_similarity(features,features)"
   ]
  },
  {
   "cell_type": "code",
   "execution_count": 104,
   "id": "b821bfb9",
   "metadata": {},
   "outputs": [],
   "source": [
    "def get_recommended(module_index, cosine_sim):\n",
    "    module_name = df_new.module_name[module_index]\n",
    "    indices = pd.Series(df_new.index, index=df_new['module_name']).drop_duplicates()\n",
    "    # Get index of the df_new\n",
    "    idx = indices[module_name]\n",
    "    # Sort the new_text on the similarity scores\n",
    "    sim_scores = list(enumerate(cosine_sim[idx]))\n",
    "    sim_scores = sorted(sim_scores, key=lambda x: x[1], reverse=True)\n",
    "    # Get the scores for 10 most similar module_names\n",
    "    sim_scores = sim_scores[1:11]\n",
    "    # Get the module indices\n",
    "    scores=[i[1] for i in sim_scores]\n",
    "    news_indices = [i[0] for i in sim_scores]\n",
    "    # Return the top 10 most similar modules\n",
    "    dfs=pd.DataFrame({'modulues': df_new['module_name'].iloc[news_indices],\n",
    "                'Cosine_similarity':  scores})\n",
    "    print(\"*\" * 10 + \" module recommendation \" + \"*\" * 10)\n",
    "    print(\"\")\n",
    "    print(f\"module name: {module_name}\")\n",
    "    print(\"\")\n",
    "    print( \"*\" * 9 + \" Recommended modules \" + \"*\" * 9)\n",
    "    return dfs.iloc[0:,]"
   ]
  },
  {
   "cell_type": "code",
   "execution_count": 107,
   "id": "5ef3151b",
   "metadata": {},
   "outputs": [
    {
     "data": {
      "text/plain": [
       "'Digital Learning : Engineering '"
      ]
     },
     "execution_count": 107,
     "metadata": {},
     "output_type": "execute_result"
    }
   ],
   "source": [
    "df_new.module_name[22]"
   ]
  },
  {
   "cell_type": "code",
   "execution_count": 108,
   "id": "4f537858",
   "metadata": {
    "scrolled": true
   },
   "outputs": [],
   "source": [
    "pd.set_option('display.max_colwidth', -1) #sets the maximum width of columns. Cells of this length or longer will be truncated with an ellipsis."
   ]
  },
  {
   "cell_type": "code",
   "execution_count": 110,
   "id": "ef358b25",
   "metadata": {},
   "outputs": [
    {
     "name": "stdout",
     "output_type": "stream",
     "text": [
      "********** module recommendation **********\n",
      "\n",
      "module name: Digital Learning : Engineering \n",
      "\n",
      "********* Recommended modules *********\n"
     ]
    },
    {
     "data": {
      "text/html": [
       "<div>\n",
       "<style scoped>\n",
       "    .dataframe tbody tr th:only-of-type {\n",
       "        vertical-align: middle;\n",
       "    }\n",
       "\n",
       "    .dataframe tbody tr th {\n",
       "        vertical-align: top;\n",
       "    }\n",
       "\n",
       "    .dataframe thead th {\n",
       "        text-align: right;\n",
       "    }\n",
       "</style>\n",
       "<table border=\"1\" class=\"dataframe\">\n",
       "  <thead>\n",
       "    <tr style=\"text-align: right;\">\n",
       "      <th></th>\n",
       "      <th>modulues</th>\n",
       "      <th>Cosine_similarity</th>\n",
       "    </tr>\n",
       "  </thead>\n",
       "  <tbody>\n",
       "    <tr>\n",
       "      <th>2129</th>\n",
       "      <td>Engineering academy</td>\n",
       "      <td>0.471073</td>\n",
       "    </tr>\n",
       "    <tr>\n",
       "      <th>6694</th>\n",
       "      <td>Practical Engineering</td>\n",
       "      <td>0.462796</td>\n",
       "    </tr>\n",
       "    <tr>\n",
       "      <th>4171</th>\n",
       "      <td>Tech Soft Skills: Moving from Developer to Engineering Manager</td>\n",
       "      <td>0.399631</td>\n",
       "    </tr>\n",
       "    <tr>\n",
       "      <th>3365</th>\n",
       "      <td>Security Awareness: Social Engineering</td>\n",
       "      <td>0.382375</td>\n",
       "    </tr>\n",
       "    <tr>\n",
       "      <th>1556</th>\n",
       "      <td>Engineering Manager</td>\n",
       "      <td>0.377343</td>\n",
       "    </tr>\n",
       "    <tr>\n",
       "      <th>1298</th>\n",
       "      <td>Software Engineering</td>\n",
       "      <td>0.376355</td>\n",
       "    </tr>\n",
       "    <tr>\n",
       "      <th>2633</th>\n",
       "      <td>Applied Machine Learning: Feature Engineering</td>\n",
       "      <td>0.372081</td>\n",
       "    </tr>\n",
       "    <tr>\n",
       "      <th>1545</th>\n",
       "      <td>Others - Engineering</td>\n",
       "      <td>0.362904</td>\n",
       "    </tr>\n",
       "    <tr>\n",
       "      <th>3991</th>\n",
       "      <td>Cybersecurity Awareness: Social Engineering</td>\n",
       "      <td>0.355318</td>\n",
       "    </tr>\n",
       "    <tr>\n",
       "      <th>7015</th>\n",
       "      <td>Engineering Drawings for Manufacturing</td>\n",
       "      <td>0.343792</td>\n",
       "    </tr>\n",
       "  </tbody>\n",
       "</table>\n",
       "</div>"
      ],
      "text/plain": [
       "                                                            modulues  \\\n",
       "2129  Engineering academy                                              \n",
       "6694  Practical Engineering                                            \n",
       "4171  Tech Soft Skills: Moving from Developer to Engineering Manager   \n",
       "3365  Security Awareness: Social Engineering                           \n",
       "1556  Engineering Manager                                              \n",
       "1298  Software Engineering                                             \n",
       "2633  Applied Machine Learning: Feature Engineering                    \n",
       "1545  Others - Engineering                                             \n",
       "3991  Cybersecurity Awareness: Social Engineering                      \n",
       "7015  Engineering Drawings for Manufacturing                           \n",
       "\n",
       "      Cosine_similarity  \n",
       "2129  0.471073           \n",
       "6694  0.462796           \n",
       "4171  0.399631           \n",
       "3365  0.382375           \n",
       "1556  0.377343           \n",
       "1298  0.376355           \n",
       "2633  0.372081           \n",
       "1545  0.362904           \n",
       "3991  0.355318           \n",
       "7015  0.343792           "
      ]
     },
     "execution_count": 110,
     "metadata": {},
     "output_type": "execute_result"
    }
   ],
   "source": [
    "recommended=get_recommended(22, cosine_sim)\n",
    "recommended"
   ]
  },
  {
   "cell_type": "markdown",
   "id": "525236eb",
   "metadata": {},
   "source": [
    "refferd by kaggle and some websites (analytic vidya,medium,kdnuggts) "
   ]
  },
  {
   "cell_type": "markdown",
   "id": "ad00e0d9",
   "metadata": {},
   "source": [
    "## Based on Module name based"
   ]
  },
  {
   "cell_type": "markdown",
   "id": "3fda0691",
   "metadata": {},
   "source": [
    "### Approch 1"
   ]
  },
  {
   "cell_type": "code",
   "execution_count": 72,
   "id": "10c5ba8f",
   "metadata": {},
   "outputs": [],
   "source": [
    "similarity = cosine_similarity(tfidfvectors)"
   ]
  },
  {
   "cell_type": "code",
   "execution_count": 112,
   "id": "41ef7da5",
   "metadata": {},
   "outputs": [
    {
     "data": {
      "text/plain": [
       "array([[1.        , 0.        , 0.        , ..., 0.        , 0.        ,\n",
       "        0.        ],\n",
       "       [0.        , 1.        , 0.09837569, ..., 0.        , 0.        ,\n",
       "        0.        ],\n",
       "       [0.        , 0.09837569, 1.        , ..., 0.        , 0.        ,\n",
       "        0.        ],\n",
       "       ...,\n",
       "       [0.        , 0.        , 0.        , ..., 1.        , 0.04754967,\n",
       "        0.05512731],\n",
       "       [0.        , 0.        , 0.        , ..., 0.04754967, 1.        ,\n",
       "        0.17853555],\n",
       "       [0.        , 0.        , 0.        , ..., 0.05512731, 0.17853555,\n",
       "        1.        ]])"
      ]
     },
     "execution_count": 112,
     "metadata": {},
     "output_type": "execute_result"
    }
   ],
   "source": [
    "similarity"
   ]
  },
  {
   "cell_type": "code",
   "execution_count": 92,
   "id": "d07afaa9",
   "metadata": {},
   "outputs": [],
   "source": [
    "def recommend(module):\n",
    "    course_index = df_new[df_new['module_name'] == module].index[0]\n",
    "    distances = similarity[course_index]\n",
    "    course_list = sorted(list(enumerate(distances)),reverse=True, key=lambda x:x[1])[0:7]\n",
    "    \n",
    "    for i in course_list:\n",
    "        print(df_new.iloc[i[0]].module_name)"
   ]
  },
  {
   "cell_type": "code",
   "execution_count": 93,
   "id": "58c3f0c6",
   "metadata": {
    "scrolled": true
   },
   "outputs": [
    {
     "name": "stdout",
     "output_type": "stream",
     "text": [
      "Work From Home Etiquette\n",
      "Homes B1 & Below\n",
      "Building Relationships While Working from Home\n",
      "B1 & Below |Homes Center\n",
      "B2 & Above |Homes Center\n",
      "Program Manager - One Homes\n",
      "B1 & Below |Homes Circle\n"
     ]
    }
   ],
   "source": [
    "recommend('Work From Home Etiquette') "
   ]
  },
  {
   "cell_type": "markdown",
   "id": "09f3546f",
   "metadata": {},
   "source": [
    "### Approch 2"
   ]
  },
  {
   "cell_type": "code",
   "execution_count": 83,
   "id": "99fa1d5b",
   "metadata": {},
   "outputs": [],
   "source": [
    "# Get module name/Index\n",
    "course_indices = pd.Series(df_new.index,index=df_new['module_name']).drop_duplicates()\n"
   ]
  },
  {
   "cell_type": "code",
   "execution_count": 86,
   "id": "1c17a6ed",
   "metadata": {},
   "outputs": [],
   "source": [
    "def recommend_course(title,num_of_rec=10):\n",
    "    # ID for title\n",
    "    idx = course_indices[title]\n",
    "    # Course Indice\n",
    "    # Search inside cosine_sim_mat\n",
    "    scores = list(enumerate(similarity[idx]))\n",
    "    # Scores\n",
    "    # Sort Scores\n",
    "    sorted_scores = sorted(scores,key=lambda x:x[1],reverse=True)\n",
    "    # Recomm\n",
    "    selected_course_indices = [i[0] for i in sorted_scores[0:]]\n",
    "    selected_course_scores = [i[1] for i in sorted_scores[0:]]\n",
    "    result = df_new['module_name'].iloc[selected_course_indices]\n",
    "    rec_df = pd.DataFrame(result)\n",
    "    rec_df['similarity_scores'] = selected_course_scores\n",
    "    return rec_df.head(num_of_rec) \n",
    "    "
   ]
  },
  {
   "cell_type": "code",
   "execution_count": 115,
   "id": "7442fb7c",
   "metadata": {},
   "outputs": [
    {
     "data": {
      "text/html": [
       "<div>\n",
       "<style scoped>\n",
       "    .dataframe tbody tr th:only-of-type {\n",
       "        vertical-align: middle;\n",
       "    }\n",
       "\n",
       "    .dataframe tbody tr th {\n",
       "        vertical-align: top;\n",
       "    }\n",
       "\n",
       "    .dataframe thead th {\n",
       "        text-align: right;\n",
       "    }\n",
       "</style>\n",
       "<table border=\"1\" class=\"dataframe\">\n",
       "  <thead>\n",
       "    <tr style=\"text-align: right;\">\n",
       "      <th></th>\n",
       "      <th>module_name</th>\n",
       "      <th>similarity_scores</th>\n",
       "    </tr>\n",
       "  </thead>\n",
       "  <tbody>\n",
       "    <tr>\n",
       "      <th>7959</th>\n",
       "      <td>Python Data Visualization</td>\n",
       "      <td>1.000000</td>\n",
       "    </tr>\n",
       "    <tr>\n",
       "      <th>5672</th>\n",
       "      <td>Python Data Representations</td>\n",
       "      <td>0.560349</td>\n",
       "    </tr>\n",
       "    <tr>\n",
       "      <th>5851</th>\n",
       "      <td>Python Data Analysis</td>\n",
       "      <td>0.540845</td>\n",
       "    </tr>\n",
       "    <tr>\n",
       "      <th>926</th>\n",
       "      <td>Python Data Analysis</td>\n",
       "      <td>0.540802</td>\n",
       "    </tr>\n",
       "    <tr>\n",
       "      <th>2950</th>\n",
       "      <td>Python Programming Essentials</td>\n",
       "      <td>0.505277</td>\n",
       "    </tr>\n",
       "    <tr>\n",
       "      <th>2214</th>\n",
       "      <td>Introduction to Data Science in Python</td>\n",
       "      <td>0.458371</td>\n",
       "    </tr>\n",
       "    <tr>\n",
       "      <th>2784</th>\n",
       "      <td>Python for Data Science Tips, Tricks, &amp; Techniques</td>\n",
       "      <td>0.450642</td>\n",
       "    </tr>\n",
       "    <tr>\n",
       "      <th>2216</th>\n",
       "      <td>Python: Data Analysis</td>\n",
       "      <td>0.449418</td>\n",
       "    </tr>\n",
       "    <tr>\n",
       "      <th>1217</th>\n",
       "      <td>Python for Data Visualization</td>\n",
       "      <td>0.448987</td>\n",
       "    </tr>\n",
       "    <tr>\n",
       "      <th>919</th>\n",
       "      <td>Python for Data Science Essential Training Part 1</td>\n",
       "      <td>0.447598</td>\n",
       "    </tr>\n",
       "    <tr>\n",
       "      <th>2155</th>\n",
       "      <td>Python for Data Science and AI</td>\n",
       "      <td>0.435741</td>\n",
       "    </tr>\n",
       "    <tr>\n",
       "      <th>6020</th>\n",
       "      <td>Data Collection and Processing with Python</td>\n",
       "      <td>0.435174</td>\n",
       "    </tr>\n",
       "    <tr>\n",
       "      <th>2617</th>\n",
       "      <td>Python Data Structures</td>\n",
       "      <td>0.425954</td>\n",
       "    </tr>\n",
       "    <tr>\n",
       "      <th>2148</th>\n",
       "      <td>Data Visualization with Python</td>\n",
       "      <td>0.401628</td>\n",
       "    </tr>\n",
       "    <tr>\n",
       "      <th>2618</th>\n",
       "      <td>Using Python to Access Web Data</td>\n",
       "      <td>0.400588</td>\n",
       "    </tr>\n",
       "    <tr>\n",
       "      <th>6019</th>\n",
       "      <td>Python Classes and Inheritance</td>\n",
       "      <td>0.394147</td>\n",
       "    </tr>\n",
       "    <tr>\n",
       "      <th>5468</th>\n",
       "      <td>Practice It: Python Data Structures</td>\n",
       "      <td>0.392657</td>\n",
       "    </tr>\n",
       "    <tr>\n",
       "      <th>2290</th>\n",
       "      <td>Python Basics</td>\n",
       "      <td>0.387703</td>\n",
       "    </tr>\n",
       "    <tr>\n",
       "      <th>3011</th>\n",
       "      <td>Data Ingestion with Python</td>\n",
       "      <td>0.369303</td>\n",
       "    </tr>\n",
       "    <tr>\n",
       "      <th>3303</th>\n",
       "      <td>Capstone: Retrieving, Processing, and Visualizing Data with Python</td>\n",
       "      <td>0.359730</td>\n",
       "    </tr>\n",
       "  </tbody>\n",
       "</table>\n",
       "</div>"
      ],
      "text/plain": [
       "                                                             module_name  \\\n",
       "7959  Python Data Visualization                                            \n",
       "5672  Python Data Representations                                          \n",
       "5851  Python Data Analysis                                                 \n",
       "926   Python Data Analysis                                                 \n",
       "2950  Python Programming Essentials                                        \n",
       "2214  Introduction to Data Science in Python                               \n",
       "2784  Python for Data Science Tips, Tricks, & Techniques                   \n",
       "2216  Python: Data Analysis                                                \n",
       "1217  Python for Data Visualization                                        \n",
       "919   Python for Data Science Essential Training Part 1                    \n",
       "2155  Python for Data Science and AI                                       \n",
       "6020  Data Collection and Processing with Python                           \n",
       "2617  Python Data Structures                                               \n",
       "2148  Data Visualization with Python                                       \n",
       "2618  Using Python to Access Web Data                                      \n",
       "6019  Python Classes and Inheritance                                       \n",
       "5468  Practice It: Python Data Structures                                  \n",
       "2290  Python Basics                                                        \n",
       "3011  Data Ingestion with Python                                           \n",
       "3303  Capstone: Retrieving, Processing, and Visualizing Data with Python   \n",
       "\n",
       "      similarity_scores  \n",
       "7959  1.000000           \n",
       "5672  0.560349           \n",
       "5851  0.540845           \n",
       "926   0.540802           \n",
       "2950  0.505277           \n",
       "2214  0.458371           \n",
       "2784  0.450642           \n",
       "2216  0.449418           \n",
       "1217  0.448987           \n",
       "919   0.447598           \n",
       "2155  0.435741           \n",
       "6020  0.435174           \n",
       "2617  0.425954           \n",
       "2148  0.401628           \n",
       "2618  0.400588           \n",
       "6019  0.394147           \n",
       "5468  0.392657           \n",
       "2290  0.387703           \n",
       "3011  0.369303           \n",
       "3303  0.359730           "
      ]
     },
     "execution_count": 115,
     "metadata": {},
     "output_type": "execute_result"
    }
   ],
   "source": [
    "recommend_course('Python Data Visualization',20)"
   ]
  },
  {
   "cell_type": "code",
   "execution_count": null,
   "id": "805a8312",
   "metadata": {},
   "outputs": [],
   "source": []
  }
 ],
 "metadata": {
  "kernelspec": {
   "display_name": "Python 3 (ipykernel)",
   "language": "python",
   "name": "python3"
  },
  "language_info": {
   "codemirror_mode": {
    "name": "ipython",
    "version": 3
   },
   "file_extension": ".py",
   "mimetype": "text/x-python",
   "name": "python",
   "nbconvert_exporter": "python",
   "pygments_lexer": "ipython3",
   "version": "3.9.13"
  }
 },
 "nbformat": 4,
 "nbformat_minor": 5
}
